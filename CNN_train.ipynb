{
  "nbformat": 4,
  "nbformat_minor": 0,
  "metadata": {
    "colab": {
      "name": "CNN-train.ipynb",
      "provenance": [],
      "collapsed_sections": [
        "JojXy1zDcAW7",
        "m_x_8tOVLJq7",
        "4icEIrjGnsju"
      ],
      "authorship_tag": "ABX9TyNmrgl1FJRk8s2rumQC1YB8",
      "include_colab_link": true
    },
    "kernelspec": {
      "name": "python3",
      "display_name": "Python 3"
    },
    "language_info": {
      "name": "python"
    }
  },
  "cells": [
    {
      "cell_type": "markdown",
      "metadata": {
        "id": "view-in-github",
        "colab_type": "text"
      },
      "source": [
        "<a href=\"https://colab.research.google.com/github/ThuraAung1601/BHDD-using-streamlit/blob/main/CNN_train.ipynb\" target=\"_parent\"><img src=\"https://colab.research.google.com/assets/colab-badge.svg\" alt=\"Open In Colab\"/></a>"
      ]
    },
    {
      "cell_type": "markdown",
      "metadata": {
        "id": "1QziLZUcLO-H"
      },
      "source": [
        "# BHDD Dataset Preprocessing \n",
        "- Dataset Link : https://github.com/baseresearch/BHDD\n",
        "( Download raw file directly and upload to your drive for further uses )"
      ]
    },
    {
      "cell_type": "markdown",
      "metadata": {
        "id": "JojXy1zDcAW7"
      },
      "source": [
        "## Data Loading"
      ]
    },
    {
      "cell_type": "code",
      "metadata": {
        "colab": {
          "base_uri": "https://localhost:8080/"
        },
        "id": "oP3h4gjRBfg8",
        "outputId": "ae3833ef-0807-4709-9a39-ed6efa8f2704"
      },
      "source": [
        "import pickle\n",
        "import numpy as np\n",
        "\n",
        "#url_path : Path of dataset in your drive\n",
        "url_path = \"/content/gdrive/MyDrive/BHDD Experiments /data.pkl\" \n",
        "\n",
        "dataset = []\n",
        "\n",
        "with open(url_path,\"rb\") as file:\n",
        "    dataset = pickle.load(file)\n",
        "    \n",
        "trainDataset = dataset[\"trainDataset\"]\n",
        "testDataset = dataset[\"testDataset\"]\n",
        "\n",
        "print(\"Train Size: {} Test Size: {}\".format(len(trainDataset), len(testDataset)))\n",
        "            "
      ],
      "execution_count": 5,
      "outputs": [
        {
          "output_type": "stream",
          "name": "stdout",
          "text": [
            "Train Size: 60000 Test Size: 27561\n"
          ]
        }
      ]
    },
    {
      "cell_type": "code",
      "metadata": {
        "id": "fFvTctK0XMPi"
      },
      "source": [
        "import urllib.request\n",
        "import gzip\n",
        "import pickle\n",
        "import os\n",
        "import numpy as np\n",
        "from PIL import Image"
      ],
      "execution_count": 6,
      "outputs": []
    },
    {
      "cell_type": "code",
      "metadata": {
        "id": "chd3bMV1ICJH"
      },
      "source": [
        "numberOfClass = 10\n",
        "\n",
        "trainX = [list(td[\"image\"] / 255) for td in trainDataset]\n",
        "trainY = np.eye(numberOfClass)[np.array([td[\"label\"] for td in trainDataset]).reshape(-1)].tolist() #One-hot encode training labels\n",
        "testX = [list(td[\"image\"] / 255) for td in testDataset]\n",
        "testY = np.eye(numberOfClass)[np.array([td[\"label\"] for td in testDataset]).reshape(-1)].tolist() #One-hot encode test labels"
      ],
      "execution_count": 7,
      "outputs": []
    },
    {
      "cell_type": "code",
      "metadata": {
        "colab": {
          "base_uri": "https://localhost:8080/"
        },
        "id": "t46m-NSZIdd1",
        "outputId": "dbe4dc25-10dd-4634-8001-7ebacf0848f9"
      },
      "source": [
        "print(\"TrainImageShape:\" + str(np.shape(trainX)),\n",
        "     \"TrainLabelShape:\" + str(np.shape(trainY)),\n",
        "     \"TestImageShape:\" + str(np.shape(testX)),\n",
        "     \"TestLabelShape:\" + str(np.shape(testY)))"
      ],
      "execution_count": 8,
      "outputs": [
        {
          "output_type": "stream",
          "name": "stdout",
          "text": [
            "TrainImageShape:(60000, 28, 28) TrainLabelShape:(60000, 10) TestImageShape:(27561, 28, 28) TestLabelShape:(27561, 10)\n"
          ]
        }
      ]
    },
    {
      "cell_type": "markdown",
      "metadata": {
        "id": "Ce4ZVfMKW6zu"
      },
      "source": [
        "## Training BHDD using CNN\n"
      ]
    },
    {
      "cell_type": "code",
      "metadata": {
        "id": "1gE6xjg5ZLN5"
      },
      "source": [
        "import numpy as np\n",
        "from tensorflow import keras\n",
        "from tensorflow.keras import layers"
      ],
      "execution_count": 9,
      "outputs": []
    },
    {
      "cell_type": "code",
      "metadata": {
        "colab": {
          "base_uri": "https://localhost:8080/"
        },
        "id": "y3eYgDEiPWa_",
        "outputId": "2d5b3d97-6253-43f0-ae10-919ecb118a26"
      },
      "source": [
        "input_shape = (28,28,1)\n",
        "num_classes = 10\n",
        "\n",
        "\n",
        "\n",
        "model = keras.Sequential(\n",
        "    [\n",
        "        keras.Input(shape=input_shape),\n",
        "        layers.Conv2D(32, kernel_size=(3, 3), activation=\"relu\"),\n",
        "        layers.MaxPooling2D(pool_size=(2, 2)),\n",
        "        layers.Conv2D(64, kernel_size=(3, 3), activation=\"relu\"),\n",
        "        layers.MaxPooling2D(pool_size=(2, 2)),\n",
        "        layers.Flatten(),\n",
        "        layers.Dropout(0.5),\n",
        "        layers.Dense(num_classes, activation=\"softmax\"),\n",
        "    ]\n",
        ")\n",
        "\n",
        "model.summary()"
      ],
      "execution_count": 18,
      "outputs": [
        {
          "output_type": "stream",
          "name": "stdout",
          "text": [
            "Model: \"sequential_2\"\n",
            "_________________________________________________________________\n",
            "Layer (type)                 Output Shape              Param #   \n",
            "=================================================================\n",
            "conv2d_6 (Conv2D)            (None, 26, 26, 32)        320       \n",
            "_________________________________________________________________\n",
            "max_pooling2d_6 (MaxPooling2 (None, 13, 13, 32)        0         \n",
            "_________________________________________________________________\n",
            "conv2d_7 (Conv2D)            (None, 11, 11, 64)        18496     \n",
            "_________________________________________________________________\n",
            "max_pooling2d_7 (MaxPooling2 (None, 5, 5, 64)          0         \n",
            "_________________________________________________________________\n",
            "flatten_3 (Flatten)          (None, 1600)              0         \n",
            "_________________________________________________________________\n",
            "dropout_3 (Dropout)          (None, 1600)              0         \n",
            "_________________________________________________________________\n",
            "dense_2 (Dense)              (None, 10)                16010     \n",
            "=================================================================\n",
            "Total params: 34,826\n",
            "Trainable params: 34,826\n",
            "Non-trainable params: 0\n",
            "_________________________________________________________________\n"
          ]
        }
      ]
    },
    {
      "cell_type": "code",
      "metadata": {
        "colab": {
          "base_uri": "https://localhost:8080/"
        },
        "id": "u4prc3LmRP3H",
        "outputId": "81439b1a-b0c1-4285-fb6f-e70665492144"
      },
      "source": [
        "# Scale images to the [0, 1] range\n",
        "trainX = np.array(trainX)\n",
        "testX = np.array(testX)\n",
        "trainX = trainX.astype(\"float32\") / 255\n",
        "testX = testX.astype(\"float32\") / 255\n",
        "\n",
        "# Make sure images have shape (28, 28, 1)\n",
        "trainX = np.expand_dims(trainX, -1)\n",
        "testX = np.expand_dims(testX, -1)\n",
        "\n",
        "print(\"x_train shape:\", trainX.shape)\n",
        "print(trainX.shape[0], \"train samples\")\n",
        "print(testX.shape[0], \"test samples\")"
      ],
      "execution_count": 19,
      "outputs": [
        {
          "output_type": "stream",
          "name": "stdout",
          "text": [
            "x_train shape: (60000, 28, 28, 1)\n",
            "60000 train samples\n",
            "27561 test samples\n"
          ]
        }
      ]
    },
    {
      "cell_type": "code",
      "metadata": {
        "id": "8HNDp2JgRaLI"
      },
      "source": [
        "trainY = np.array(trainY)\n",
        "testY = np.array(testY)"
      ],
      "execution_count": 20,
      "outputs": []
    },
    {
      "cell_type": "code",
      "metadata": {
        "colab": {
          "base_uri": "https://localhost:8080/"
        },
        "id": "4D57rMIPRaLJ",
        "outputId": "14c2dc22-7975-42d2-99fc-0de354b6a58a"
      },
      "source": [
        "batch_size = 128\n",
        "epochs = 15\n",
        "\n",
        "model.compile(loss=\"categorical_crossentropy\", optimizer=\"adam\", metrics=[\"accuracy\",keras.metrics.Precision(),keras.metrics.Recall()])\n",
        "\n",
        "history = model.fit(trainX, trainY, batch_size=batch_size, epochs=epochs, validation_split=0.1)"
      ],
      "execution_count": null,
      "outputs": [
        {
          "output_type": "stream",
          "name": "stdout",
          "text": [
            "Epoch 1/15\n",
            "422/422 [==============================] - 43s 98ms/step - loss: 1.4221 - accuracy: 0.5887 - precision: 0.9493 - recall: 0.3150 - val_loss: 0.3158 - val_accuracy: 0.9237 - val_precision: 0.9542 - val_recall: 0.8810\n",
            "Epoch 2/15\n",
            "422/422 [==============================] - 40s 96ms/step - loss: 0.2681 - accuracy: 0.9257 - precision: 0.9459 - recall: 0.9040 - val_loss: 0.1884 - val_accuracy: 0.9470 - val_precision: 0.9604 - val_recall: 0.9387\n",
            "Epoch 3/15\n",
            "422/422 [==============================] - 41s 96ms/step - loss: 0.2051 - accuracy: 0.9416 - precision: 0.9550 - recall: 0.9303 - val_loss: 0.1582 - val_accuracy: 0.9565 - val_precision: 0.9666 - val_recall: 0.9460\n",
            "Epoch 4/15\n",
            "422/422 [==============================] - 41s 96ms/step - loss: 0.1770 - accuracy: 0.9499 - precision: 0.9601 - recall: 0.9409 - val_loss: 0.1323 - val_accuracy: 0.9640 - val_precision: 0.9726 - val_recall: 0.9578\n",
            "Epoch 5/15\n",
            "335/422 [======================>.......] - ETA: 8s - loss: 0.1579 - accuracy: 0.9562 - precision: 0.9655 - recall: 0.9490"
          ]
        }
      ]
    },
    {
      "cell_type": "code",
      "metadata": {
        "id": "S6QFUfrxRaLK"
      },
      "source": [
        "print(history.history.keys())"
      ],
      "execution_count": null,
      "outputs": []
    },
    {
      "cell_type": "code",
      "metadata": {
        "id": "zdX_PBdXRaLL"
      },
      "source": [
        "import matplotlib.pyplot as plt\n",
        "plt.plot(history.history['accuracy'])\n",
        "plt.plot(history.history['val_accuracy'])\n",
        "plt.title(\"model accuracy\")\n",
        "plt.ylabel(\"accuracy\")\n",
        "plt.xlabel(\"epoch\")\n",
        "plt.legend(['train','test'],loc='lower right')\n",
        "plt.show()"
      ],
      "execution_count": null,
      "outputs": []
    },
    {
      "cell_type": "code",
      "metadata": {
        "id": "6h8ViHgQRaLL"
      },
      "source": [
        "import matplotlib.pyplot as plt\n",
        "plt.plot(history.history['loss'])\n",
        "plt.plot(history.history['val_loss'])\n",
        "plt.title(\"model loss\")\n",
        "plt.ylabel(\"loss\")\n",
        "plt.xlabel(\"epoch\")\n",
        "plt.legend(['train','test'],loc='upper right')\n",
        "plt.show()"
      ],
      "execution_count": null,
      "outputs": []
    },
    {
      "cell_type": "code",
      "metadata": {
        "id": "rVDrH9X7RaLM"
      },
      "source": [
        "score = model.evaluate(testX, testY, verbose=0)\n",
        "print(\"Test loss:\", score[0])\n",
        "print(\"Test accuracy:\", score[1])"
      ],
      "execution_count": null,
      "outputs": []
    },
    {
      "cell_type": "code",
      "metadata": {
        "id": "ursEkUmZRaLN"
      },
      "source": [
        "loss, accuracy, precision, recall = model.evaluate(testX, testY, verbose=0)\n",
        "print('Loss', loss)\n",
        "print('Accuracy', accuracy)\n",
        "print('Precision', precision)\n",
        "print('Recall', recall)\n",
        "\n",
        "f1_score = (2* recall*precision)/(recall+precision)\n",
        "print(\"f1_score\", f1_score)"
      ],
      "execution_count": null,
      "outputs": []
    },
    {
      "cell_type": "code",
      "metadata": {
        "id": "6s4xqJzWRaLN"
      },
      "source": [
        "from keras.models import load_model\n",
        "\n",
        "model.save('./cnn.h5')  # creates a HDF5 file 'my_model.h5'"
      ],
      "execution_count": null,
      "outputs": []
    },
    {
      "cell_type": "code",
      "metadata": {
        "id": "19z_bWXCTWzG"
      },
      "source": [
        ""
      ],
      "execution_count": null,
      "outputs": []
    }
  ]
}