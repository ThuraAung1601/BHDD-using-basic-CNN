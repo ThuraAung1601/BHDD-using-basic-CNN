{
  "nbformat": 4,
  "nbformat_minor": 0,
  "metadata": {
    "colab": {
      "name": "BHDD-Dataset.ipynb",
      "provenance": [],
      "collapsed_sections": [
        "JojXy1zDcAW7",
        "m_x_8tOVLJq7",
        "4icEIrjGnsju"
      ],
      "authorship_tag": "ABX9TyMdwt4cG06EWLKXEaUOD2Zv",
      "include_colab_link": true
    },
    "kernelspec": {
      "name": "python3",
      "display_name": "Python 3"
    },
    "language_info": {
      "name": "python"
    }
  },
  "cells": [
    {
      "cell_type": "markdown",
      "metadata": {
        "id": "view-in-github",
        "colab_type": "text"
      },
      "source": [
        "<a href=\"https://colab.research.google.com/github/ThuraAung1601/BHDD-using-streamlit/blob/main/BurmeseHandwrittenDigit.ipynb\" target=\"_parent\"><img src=\"https://colab.research.google.com/assets/colab-badge.svg\" alt=\"Open In Colab\"/></a>"
      ]
    },
    {
      "cell_type": "markdown",
      "metadata": {
        "id": "1QziLZUcLO-H"
      },
      "source": [
        "# BHDD Dataset Preprocessing \n",
        "- Dataset Link : https://github.com/baseresearch/BHDD\n",
        "( Download raw file directly and upload to your drive for further uses )"
      ]
    },
    {
      "cell_type": "code",
      "metadata": {
        "colab": {
          "base_uri": "https://localhost:8080/"
        },
        "id": "hgknVq80BF5_",
        "outputId": "9847e54b-6d95-451a-fcf0-414ceccabc9b"
      },
      "source": [
        "from google.colab import drive\n",
        "\n",
        "drive.mount('/content/gdrive')"
      ],
      "execution_count": 1,
      "outputs": [
        {
          "output_type": "stream",
          "name": "stdout",
          "text": [
            "Mounted at /content/gdrive\n"
          ]
        }
      ]
    },
    {
      "cell_type": "markdown",
      "metadata": {
        "id": "mA-pP8VQtrM0"
      },
      "source": [
        ""
      ]
    },
    {
      "cell_type": "markdown",
      "metadata": {
        "id": "JojXy1zDcAW7"
      },
      "source": [
        "## Data Loading"
      ]
    },
    {
      "cell_type": "code",
      "metadata": {
        "colab": {
          "base_uri": "https://localhost:8080/"
        },
        "id": "oP3h4gjRBfg8",
        "outputId": "d8ea6110-5fff-4345-ed2d-ed8c7c2f6df9"
      },
      "source": [
        "import pickle\n",
        "import numpy as np\n",
        "\n",
        "#url_path : Path of dataset in your drive\n",
        "url_path = \"/content/gdrive/MyDrive/BHDD Experiments /data.pkl\" \n",
        "\n",
        "dataset = []\n",
        "\n",
        "with open(url_path,\"rb\") as file:\n",
        "    dataset = pickle.load(file)\n",
        "    \n",
        "trainDataset = dataset[\"trainDataset\"]\n",
        "testDataset = dataset[\"testDataset\"]\n",
        "\n",
        "print(\"Train Size: {} Test Size: {}\".format(len(trainDataset), len(testDataset)))\n",
        "            "
      ],
      "execution_count": 76,
      "outputs": [
        {
          "output_type": "stream",
          "name": "stdout",
          "text": [
            "Train Size: 60000 Test Size: 27561\n"
          ]
        }
      ]
    },
    {
      "cell_type": "code",
      "metadata": {
        "id": "fFvTctK0XMPi"
      },
      "source": [
        "import urllib.request\n",
        "import gzip\n",
        "import pickle\n",
        "import os\n",
        "import numpy as np\n",
        "from PIL import Image"
      ],
      "execution_count": 77,
      "outputs": []
    },
    {
      "cell_type": "code",
      "metadata": {
        "id": "chd3bMV1ICJH"
      },
      "source": [
        "numberOfClass = 10\n",
        "\n",
        "trainX = [list(td[\"image\"] / 255) for td in trainDataset]\n",
        "trainY = np.eye(numberOfClass)[np.array([td[\"label\"] for td in trainDataset]).reshape(-1)].tolist() #One-hot encode training labels\n",
        "testX = [list(td[\"image\"] / 255) for td in testDataset]\n",
        "testY = np.eye(numberOfClass)[np.array([td[\"label\"] for td in testDataset]).reshape(-1)].tolist() #One-hot encode test labels"
      ],
      "execution_count": 78,
      "outputs": []
    },
    {
      "cell_type": "code",
      "metadata": {
        "colab": {
          "base_uri": "https://localhost:8080/"
        },
        "id": "t46m-NSZIdd1",
        "outputId": "3a694ec1-101d-4f19-e178-3f81043d0e31"
      },
      "source": [
        "print(\"TrainImageShape:\" + str(np.shape(trainX)),\n",
        "     \"TrainLabelShape:\" + str(np.shape(trainY)),\n",
        "     \"TestImageShape:\" + str(np.shape(testX)),\n",
        "     \"TestLabelShape:\" + str(np.shape(testY)))"
      ],
      "execution_count": 79,
      "outputs": [
        {
          "output_type": "stream",
          "name": "stdout",
          "text": [
            "TrainImageShape:(60000, 28, 28) TrainLabelShape:(60000, 10) TestImageShape:(27561, 28, 28) TestLabelShape:(27561, 10)\n"
          ]
        }
      ]
    },
    {
      "cell_type": "code",
      "metadata": {
        "colab": {
          "base_uri": "https://localhost:8080/",
          "height": 287
        },
        "id": "RZc758QlQ8fs",
        "outputId": "1ed0cf15-f52a-4fbc-d6c7-ededfa0c8e17"
      },
      "source": [
        "plt.imshow(trainX[6],cmap='gray')"
      ],
      "execution_count": 98,
      "outputs": [
        {
          "output_type": "execute_result",
          "data": {
            "text/plain": [
              "<matplotlib.image.AxesImage at 0x7f2c66b362d0>"
            ]
          },
          "metadata": {},
          "execution_count": 98
        },
        {
          "output_type": "display_data",
          "data": {
            "image/png": "[encoded data removed]",
            "text/plain": [
              "<Figure size 432x288 with 1 Axes>"
            ]
          },
          "metadata": {
            "needs_background": "light"
          }
        }
      ]
    },
    {
      "cell_type": "markdown",
      "metadata": {
        "id": "rojO3MostwTr"
      },
      "source": [
        "# Deep Learning Algorithms\n",
        "- Perceptron\n",
        "- MLP\n",
        "- ConvNet"
      ]
    },
    {
      "cell_type": "markdown",
      "metadata": {
        "id": "m_x_8tOVLJq7"
      },
      "source": [
        "## Visualize the Dataset"
      ]
    },
    {
      "cell_type": "code",
      "metadata": {
        "colab": {
          "base_uri": "https://localhost:8080/"
        },
        "id": "xmq22SGsIf2z",
        "outputId": "ed7ce1b4-e577-4ec2-9686-02b43c63b2d5"
      },
      "source": [
        "import matplotlib.pyplot as plt\n",
        "%pylab inline\n",
        "\n",
        "def show_images(x, y, title_str):\n",
        "    for c in range(1, 10):\n",
        "        subplot(3, 3, c)\n",
        "        i = randint(len(x)) \n",
        "        im = np.reshape(x[i], (28,28))\n",
        "        axis(\"off\")\n",
        "        label = np.argmax(y[i]) \n",
        "        title(\"{} = {}\".format(title_str, label))\n",
        "        imshow(im, cmap='Greys')"
      ],
      "execution_count": null,
      "outputs": [
        {
          "output_type": "stream",
          "name": "stdout",
          "text": [
            "Populating the interactive namespace from numpy and matplotlib\n"
          ]
        }
      ]
    },
    {
      "cell_type": "code",
      "metadata": {
        "colab": {
          "base_uri": "https://localhost:8080/",
          "height": 264
        },
        "id": "YfnhPcWiIlBt",
        "outputId": "8759ffd1-b043-4da9-c6c9-daa33a6de690"
      },
      "source": [
        "### Display Training set\n",
        "\n",
        "show_images(trainX, trainY, 'Label')"
      ],
      "execution_count": null,
      "outputs": [
        {
          "output_type": "display_data",
          "data": {
            "image/png": "[encoded data removed]",
            "text/plain": [
              "<Figure size 432x288 with 9 Axes>"
            ]
          },
          "metadata": {
            "needs_background": "light"
          }
        }
      ]
    },
    {
      "cell_type": "code",
      "metadata": {
        "colab": {
          "base_uri": "https://localhost:8080/",
          "height": 264
        },
        "id": "ixxCfPtrIsoP",
        "outputId": "99212c84-c94c-48e6-9d89-251df3366b3e"
      },
      "source": [
        "### Display Test set\n",
        "\n",
        "show_images(testX, testY, 'Label')"
      ],
      "execution_count": null,
      "outputs": [
        {
          "output_type": "display_data",
          "data": {
            "image/png": "[encoded data removed]",
            "text/plain": [
              "<Figure size 432x288 with 9 Axes>"
            ]
          },
          "metadata": {
            "needs_background": "light"
          }
        }
      ]
    },
    {
      "cell_type": "markdown",
      "metadata": {
        "id": "Eb3f7Wm0YE4T"
      },
      "source": [
        "## Perceptron"
      ]
    },
    {
      "cell_type": "code",
      "metadata": {
        "id": "1gE6xjg5ZLN5"
      },
      "source": [
        "import numpy as np\n",
        "from tensorflow import keras\n",
        "from tensorflow.keras import layers"
      ],
      "execution_count": 6,
      "outputs": []
    },
    {
      "cell_type": "code",
      "metadata": {
        "id": "BpzQ-poIcYe1",
        "colab": {
          "base_uri": "https://localhost:8080/"
        },
        "outputId": "47d30057-a654-43f8-b58f-d8a98265250f"
      },
      "source": [
        "num_classes = 10\n",
        "input_shape = (28, 28, 1)\n",
        "model = keras.Sequential(\n",
        "    [\n",
        "        keras.Input(shape=input_shape),\n",
        "        layers.Flatten(),\n",
        "        layers.Dense(num_classes, activation=\"softmax\"),\n",
        "    ]\n",
        ")\n",
        "\n",
        "model.summary()"
      ],
      "execution_count": null,
      "outputs": [
        {
          "output_type": "stream",
          "name": "stdout",
          "text": [
            "Model: \"sequential\"\n",
            "_________________________________________________________________\n",
            "Layer (type)                 Output Shape              Param #   \n",
            "=================================================================\n",
            "flatten (Flatten)            (None, 784)               0         \n",
            "_________________________________________________________________\n",
            "dense (Dense)                (None, 10)                7850      \n",
            "=================================================================\n",
            "Total params: 7,850\n",
            "Trainable params: 7,850\n",
            "Non-trainable params: 0\n",
            "_________________________________________________________________\n"
          ]
        }
      ]
    },
    {
      "cell_type": "code",
      "metadata": {
        "colab": {
          "base_uri": "https://localhost:8080/"
        },
        "id": "QelmkQr9cfnd",
        "outputId": "04f782ea-94e8-4966-d966-7df0df7c3b8b"
      },
      "source": [
        "# Scale images to the [0, 1] range\n",
        "trainX = np.array(trainX)\n",
        "testX = np.array(testX)\n",
        "\n",
        "#Normalize \n",
        "trainX = trainX.astype(\"float32\") / 255\n",
        "testX = testX.astype(\"float32\") / 255\n",
        "\n",
        "# Make sure images have shape (28, 28, 1)\n",
        "trainX = np.expand_dims(trainX, -1)\n",
        "testX = np.expand_dims(testX, -1)\n",
        "\n",
        "print(\"x_train shape:\", trainX.shape)\n",
        "print(trainX.shape[0], \"train samples\")\n",
        "print(testX.shape[0], \"test samples\")"
      ],
      "execution_count": null,
      "outputs": [
        {
          "output_type": "stream",
          "name": "stdout",
          "text": [
            "x_train shape: (60000, 28, 28, 1)\n",
            "60000 train samples\n",
            "27561 test samples\n"
          ]
        }
      ]
    },
    {
      "cell_type": "code",
      "metadata": {
        "id": "uWuPprMmWjWJ"
      },
      "source": [
        "trainY = np.array(trainY)\n",
        "testY = np.array(testY)"
      ],
      "execution_count": null,
      "outputs": []
    },
    {
      "cell_type": "code",
      "metadata": {
        "id": "AyS8aSjhdAlH"
      },
      "source": [
        "batch_size = 128\n",
        "epochs = 15\n",
        "\n",
        "model.compile(loss=\"categorical_crossentropy\", optimizer=\"adam\", metrics=[\"accuracy\",keras.metrics.Precision(),keras.metrics.Recall()])\n",
        "\n",
        "history = model.fit(trainX, trainY, batch_size=batch_size, epochs=epochs, validation_split=0.1)"
      ],
      "execution_count": null,
      "outputs": []
    },
    {
      "cell_type": "code",
      "metadata": {
        "id": "b7XwDce9dOgd",
        "colab": {
          "base_uri": "https://localhost:8080/"
        },
        "outputId": "0a08adf7-8888-4bba-e65f-60b7ac8cf2c8"
      },
      "source": [
        "print(history.history.keys())"
      ],
      "execution_count": null,
      "outputs": [
        {
          "output_type": "stream",
          "name": "stdout",
          "text": [
            "dict_keys(['loss', 'accuracy', 'precision', 'recall', 'val_loss', 'val_accuracy', 'val_precision', 'val_recall'])\n"
          ]
        }
      ]
    },
    {
      "cell_type": "code",
      "metadata": {
        "colab": {
          "base_uri": "https://localhost:8080/"
        },
        "id": "PJqDF-8UaJaF",
        "outputId": "b8f3debf-4758-42fc-fd4d-5e7b80df1d1a"
      },
      "source": [
        "import matplotlib.pyplot as plt\n",
        "plt.plot(history.history['accuracy'])\n",
        "plt.plot(history.history['val_accuracy'])\n",
        "plt.title(\"model accuracy\")\n",
        "plt.ylabel(\"accuracy\")\n",
        "plt.xlabel(\"epoch\")\n",
        "plt.legend(['train','test'],loc='lower right')\n",
        "plt.show()"
      ],
      "execution_count": null,
      "outputs": [
        {
          "output_type": "display_data",
          "data": {
            "image/png": "[encoded data removed]",
            "text/plain": [
              "<Figure size 432x288 with 1 Axes>"
            ]
          },
          "metadata": {
            "needs_background": "light"
          }
        }
      ]
    },
    {
      "cell_type": "code",
      "metadata": {
        "colab": {
          "base_uri": "https://localhost:8080/",
          "height": 295
        },
        "id": "2SZBgAKFahgv",
        "outputId": "d616d2fd-4ae4-4e6a-80b2-9f8da40026a6"
      },
      "source": [
        "import matplotlib.pyplot as plt\n",
        "plt.plot(history.history['loss'])\n",
        "plt.plot(history.history['val_loss'])\n",
        "plt.title(\"model loss\")\n",
        "plt.ylabel(\"loss\")\n",
        "plt.xlabel(\"epoch\")\n",
        "plt.legend(['train','test'],loc='upper right')\n",
        "plt.show()"
      ],
      "execution_count": null,
      "outputs": [
        {
          "output_type": "display_data",
          "data": {
            "image/png": "[encoded data removed]",
            "text/plain": [
              "<Figure size 432x288 with 1 Axes>"
            ]
          },
          "metadata": {
            "needs_background": "light"
          }
        }
      ]
    },
    {
      "cell_type": "code",
      "metadata": {
        "colab": {
          "base_uri": "https://localhost:8080/"
        },
        "id": "aLmiAU27qLrm",
        "outputId": "ac738b89-2b97-4a15-b83a-8634c0255825"
      },
      "source": [
        "score = model.evaluate(testX, testY, verbose=0)\n",
        "print(\"Test loss:\", score[0])\n",
        "print(\"Test accuracy:\", score[1])"
      ],
      "execution_count": null,
      "outputs": [
        {
          "output_type": "stream",
          "name": "stdout",
          "text": [
            "Test loss: 1.6300876140594482\n",
            "Test accuracy: 0.8476107716560364\n"
          ]
        }
      ]
    },
    {
      "cell_type": "code",
      "metadata": {
        "colab": {
          "base_uri": "https://localhost:8080/"
        },
        "id": "xp5MQvUsClxv",
        "outputId": "d66e5e70-1523-484b-c2dd-662b42c62502"
      },
      "source": [
        "loss, accuracy, precision, recall = model.evaluate(testX, testY, verbose=0)\n",
        "print('Loss', loss)\n",
        "print('Accuracy', accuracy)\n",
        "print('Precision', precision)\n",
        "print('Recall', recall)\n",
        "\n",
        "f1_score = (2* recall*precision)/(recall+precision)\n",
        "print(\"f1_score\", f1_score)"
      ],
      "execution_count": null,
      "outputs": [
        {
          "output_type": "stream",
          "name": "stdout",
          "text": [
            "Loss 1.6300876140594482\n",
            "Accuracy 0.8476107716560364\n",
            "Precision 1.0\n",
            "Recall 0.0009070788510143757\n",
            "f1_score 0.0018125136092666098\n"
          ]
        }
      ]
    },
    {
      "cell_type": "markdown",
      "metadata": {
        "id": "GcdKkqfKbVmM"
      },
      "source": [
        "## Multilayer Perceptron "
      ]
    },
    {
      "cell_type": "code",
      "metadata": {
        "colab": {
          "base_uri": "https://localhost:8080/"
        },
        "id": "7cBpOfnObX3X",
        "outputId": "48828344-adbc-4a64-de29-c00a932e5dcb"
      },
      "source": [
        "num_classes = 10\n",
        "input_shape = (28, 28, 1)\n",
        "model = keras.Sequential(\n",
        "    [\n",
        "        keras.Input(shape=input_shape),\n",
        "        layers.Flatten(),\n",
        "        layers.Dense(64, activation=\"relu\"),\n",
        "        layers.Dense(num_classes, activation=\"softmax\"),\n",
        "    ]\n",
        ")\n",
        "\n",
        "model.summary()"
      ],
      "execution_count": 64,
      "outputs": [
        {
          "output_type": "stream",
          "name": "stdout",
          "text": [
            "Model: \"sequential_5\"\n",
            "_________________________________________________________________\n",
            "Layer (type)                 Output Shape              Param #   \n",
            "=================================================================\n",
            "flatten_5 (Flatten)          (None, 784)               0         \n",
            "_________________________________________________________________\n",
            "dense_14 (Dense)             (None, 64)                50240     \n",
            "_________________________________________________________________\n",
            "dense_15 (Dense)             (None, 10)                650       \n",
            "=================================================================\n",
            "Total params: 50,890\n",
            "Trainable params: 50,890\n",
            "Non-trainable params: 0\n",
            "_________________________________________________________________\n"
          ]
        }
      ]
    },
    {
      "cell_type": "code",
      "metadata": {
        "colab": {
          "base_uri": "https://localhost:8080/"
        },
        "id": "l_Op0PmobX3c",
        "outputId": "122ccdd7-10a0-4e21-fef4-77f78fde79dc"
      },
      "source": [
        "# Scale images to the [0, 1] range\n",
        "trainX = np.array(trainX)\n",
        "testX = np.array(testX)\n",
        "trainX = trainX.astype(\"float32\") / 255\n",
        "testX = testX.astype(\"float32\") / 255\n",
        "\n",
        "# Make sure images have shape (28, 28, 1)\n",
        "trainX = np.expand_dims(trainX, -1)\n",
        "testX = np.expand_dims(testX, -1)\n",
        "\n",
        "print(\"x_train shape:\", trainX.shape)\n",
        "print(trainX.shape[0], \"train samples\")\n",
        "print(testX.shape[0], \"test samples\")"
      ],
      "execution_count": 65,
      "outputs": [
        {
          "output_type": "stream",
          "name": "stdout",
          "text": [
            "x_train shape: (60000, 28, 28, 1)\n",
            "60000 train samples\n",
            "27561 test samples\n"
          ]
        }
      ]
    },
    {
      "cell_type": "code",
      "metadata": {
        "id": "Z1qrsbQSbX3d"
      },
      "source": [
        "trainY = np.array(trainY)\n",
        "testY = np.array(testY)"
      ],
      "execution_count": 66,
      "outputs": []
    },
    {
      "cell_type": "code",
      "metadata": {
        "colab": {
          "base_uri": "https://localhost:8080/"
        },
        "id": "49jU1m2pbX3e",
        "outputId": "dd8c8fec-4920-45c4-ac80-413ea1d5e113"
      },
      "source": [
        "batch_size = 128\n",
        "epochs = 15\n",
        "\n",
        "model.compile(loss=\"categorical_crossentropy\", optimizer=\"adam\", metrics=[\"accuracy\",keras.metrics.Precision(),keras.metrics.Recall()])\n",
        "\n",
        "history = model.fit(trainX, trainY, batch_size=batch_size, epochs=epochs, validation_split=0.1)"
      ],
      "execution_count": 67,
      "outputs": [
        {
          "output_type": "stream",
          "name": "stdout",
          "text": [
            "Epoch 1/15\n",
            "422/422 [==============================] - 3s 5ms/step - loss: 2.0900 - accuracy: 0.5695 - precision_5: 0.0000e+00 - recall_5: 0.0000e+00 - val_loss: 1.7588 - val_accuracy: 0.7505 - val_precision_5: 0.0000e+00 - val_recall_5: 0.0000e+00\n",
            "Epoch 2/15\n",
            "422/422 [==============================] - 2s 4ms/step - loss: 1.4432 - accuracy: 0.7648 - precision_5: 0.9951 - recall_5: 0.0411 - val_loss: 1.1820 - val_accuracy: 0.7917 - val_precision_5: 0.9936 - val_recall_5: 0.1295\n",
            "Epoch 3/15\n",
            "422/422 [==============================] - 2s 4ms/step - loss: 0.9809 - accuracy: 0.8369 - precision_5: 0.9829 - recall_5: 0.3031 - val_loss: 0.8254 - val_accuracy: 0.8578 - val_precision_5: 0.9815 - val_recall_5: 0.4522\n",
            "Epoch 4/15\n",
            "422/422 [==============================] - 2s 4ms/step - loss: 0.6964 - accuracy: 0.8841 - precision_5: 0.9777 - recall_5: 0.5888 - val_loss: 0.6036 - val_accuracy: 0.8943 - val_precision_5: 0.9747 - val_recall_5: 0.6883\n",
            "Epoch 5/15\n",
            "422/422 [==============================] - 2s 4ms/step - loss: 0.5159 - accuracy: 0.9104 - precision_5: 0.9737 - recall_5: 0.7654 - val_loss: 0.4617 - val_accuracy: 0.9180 - val_precision_5: 0.9713 - val_recall_5: 0.8052\n",
            "Epoch 6/15\n",
            "422/422 [==============================] - 2s 4ms/step - loss: 0.4000 - accuracy: 0.9264 - precision_5: 0.9715 - recall_5: 0.8453 - val_loss: 0.3690 - val_accuracy: 0.9293 - val_precision_5: 0.9697 - val_recall_5: 0.8652\n",
            "Epoch 7/15\n",
            "422/422 [==============================] - 2s 4ms/step - loss: 0.3240 - accuracy: 0.9379 - precision_5: 0.9702 - recall_5: 0.8869 - val_loss: 0.3080 - val_accuracy: 0.9378 - val_precision_5: 0.9698 - val_recall_5: 0.8942\n",
            "Epoch 8/15\n",
            "422/422 [==============================] - 2s 4ms/step - loss: 0.2724 - accuracy: 0.9448 - precision_5: 0.9702 - recall_5: 0.9101 - val_loss: 0.2661 - val_accuracy: 0.9437 - val_precision_5: 0.9695 - val_recall_5: 0.9115\n",
            "Epoch 9/15\n",
            "422/422 [==============================] - 2s 4ms/step - loss: 0.2355 - accuracy: 0.9510 - precision_5: 0.9717 - recall_5: 0.9250 - val_loss: 0.2352 - val_accuracy: 0.9452 - val_precision_5: 0.9683 - val_recall_5: 0.9212\n",
            "Epoch 10/15\n",
            "422/422 [==============================] - 2s 4ms/step - loss: 0.2082 - accuracy: 0.9557 - precision_5: 0.9724 - recall_5: 0.9350 - val_loss: 0.2113 - val_accuracy: 0.9535 - val_precision_5: 0.9719 - val_recall_5: 0.9347\n",
            "Epoch 11/15\n",
            "422/422 [==============================] - 2s 4ms/step - loss: 0.1875 - accuracy: 0.9591 - precision_5: 0.9735 - recall_5: 0.9425 - val_loss: 0.1938 - val_accuracy: 0.9547 - val_precision_5: 0.9700 - val_recall_5: 0.9390\n",
            "Epoch 12/15\n",
            "422/422 [==============================] - 2s 4ms/step - loss: 0.1713 - accuracy: 0.9622 - precision_5: 0.9746 - recall_5: 0.9476 - val_loss: 0.1786 - val_accuracy: 0.9578 - val_precision_5: 0.9719 - val_recall_5: 0.9448\n",
            "Epoch 13/15\n",
            "422/422 [==============================] - 2s 4ms/step - loss: 0.1582 - accuracy: 0.9642 - precision_5: 0.9757 - recall_5: 0.9520 - val_loss: 0.1676 - val_accuracy: 0.9608 - val_precision_5: 0.9732 - val_recall_5: 0.9488\n",
            "Epoch 14/15\n",
            "422/422 [==============================] - 2s 4ms/step - loss: 0.1474 - accuracy: 0.9665 - precision_5: 0.9767 - recall_5: 0.9557 - val_loss: 0.1577 - val_accuracy: 0.9623 - val_precision_5: 0.9726 - val_recall_5: 0.9522\n",
            "Epoch 15/15\n",
            "422/422 [==============================] - 2s 4ms/step - loss: 0.1385 - accuracy: 0.9685 - precision_5: 0.9776 - recall_5: 0.9591 - val_loss: 0.1497 - val_accuracy: 0.9623 - val_precision_5: 0.9726 - val_recall_5: 0.9535\n"
          ]
        }
      ]
    },
    {
      "cell_type": "code",
      "metadata": {
        "colab": {
          "base_uri": "https://localhost:8080/"
        },
        "id": "KlYEJXbQbX3e",
        "outputId": "8343c697-d1de-434a-cf02-8bda4773f054"
      },
      "source": [
        "print(history.history.keys())"
      ],
      "execution_count": 68,
      "outputs": [
        {
          "output_type": "stream",
          "name": "stdout",
          "text": [
            "dict_keys(['loss', 'accuracy', 'precision_5', 'recall_5', 'val_loss', 'val_accuracy', 'val_precision_5', 'val_recall_5'])\n"
          ]
        }
      ]
    },
    {
      "cell_type": "code",
      "metadata": {
        "colab": {
          "base_uri": "https://localhost:8080/",
          "height": 295
        },
        "id": "3w9nUSy1bX3f",
        "outputId": "601283ad-6b8f-4ee5-dabd-36e4f547862b"
      },
      "source": [
        "import matplotlib.pyplot as plt\n",
        "plt.plot(history.history['accuracy'])\n",
        "plt.plot(history.history['val_accuracy'])\n",
        "plt.title(\"model accuracy\")\n",
        "plt.ylabel(\"accuracy\")\n",
        "plt.xlabel(\"epoch\")\n",
        "plt.legend(['train','test'],loc='lower right')\n",
        "plt.show()"
      ],
      "execution_count": 69,
      "outputs": [
        {
          "output_type": "display_data",
          "data": {
            "image/png": "[encoded data removed]",
            "text/plain": [
              "<Figure size 432x288 with 1 Axes>"
            ]
          },
          "metadata": {
            "needs_background": "light"
          }
        }
      ]
    },
    {
      "cell_type": "code",
      "metadata": {
        "colab": {
          "base_uri": "https://localhost:8080/",
          "height": 295
        },
        "id": "OGQf4_sAbX3g",
        "outputId": "f32b634b-0b81-4d71-9ea6-cf838bb3794e"
      },
      "source": [
        "import matplotlib.pyplot as plt\n",
        "plt.plot(history.history['loss'])\n",
        "plt.plot(history.history['val_loss'])\n",
        "plt.title(\"model loss\")\n",
        "plt.ylabel(\"loss\")\n",
        "plt.xlabel(\"epoch\")\n",
        "plt.legend(['train','test'],loc='upper right')\n",
        "plt.show()"
      ],
      "execution_count": 70,
      "outputs": [
        {
          "output_type": "display_data",
          "data": {
            "image/png": "[encoded data removed]",
            "text/plain": [
              "<Figure size 432x288 with 1 Axes>"
            ]
          },
          "metadata": {
            "needs_background": "light"
          }
        }
      ]
    },
    {
      "cell_type": "code",
      "metadata": {
        "colab": {
          "base_uri": "https://localhost:8080/"
        },
        "id": "btCYNwo2qFeL",
        "outputId": "e38cc310-d6e6-444d-9ce6-5bbf473fd51d"
      },
      "source": [
        "score = model.evaluate(testX, testY, verbose=0)\n",
        "print(\"Test loss:\", score[0])\n",
        "print(\"Test accuracy:\", score[1])"
      ],
      "execution_count": 71,
      "outputs": [
        {
          "output_type": "stream",
          "name": "stdout",
          "text": [
            "Test loss: 0.14050395786762238\n",
            "Test accuracy: 0.9699575304985046\n"
          ]
        }
      ]
    },
    {
      "cell_type": "code",
      "metadata": {
        "colab": {
          "base_uri": "https://localhost:8080/"
        },
        "id": "OKYf_OeXGwn_",
        "outputId": "934098df-6741-44e4-bc3f-68b93059ff72"
      },
      "source": [
        "loss, accuracy, precision, recall = model.evaluate(testX, testY, verbose=0)\n",
        "print('Loss', loss)\n",
        "print('Accuracy', accuracy)\n",
        "print('Precision', precision)\n",
        "print('Recall', recall)\n",
        "\n",
        "f1_score = (2* recall*precision)/(recall+precision)\n",
        "print(\"f1_score\", f1_score)"
      ],
      "execution_count": 72,
      "outputs": [
        {
          "output_type": "stream",
          "name": "stdout",
          "text": [
            "Loss 0.14050395786762238\n",
            "Accuracy 0.9699575304985046\n",
            "Precision 0.9767484664916992\n",
            "Recall 0.9617575407028198\n",
            "f1_score 0.969195039408556\n"
          ]
        }
      ]
    },
    {
      "cell_type": "markdown",
      "metadata": {
        "id": "vms4pcBpRAr4"
      },
      "source": [
        "## ConvNet"
      ]
    },
    {
      "cell_type": "code",
      "metadata": {
        "colab": {
          "base_uri": "https://localhost:8080/"
        },
        "id": "y3eYgDEiPWa_",
        "outputId": "5432487b-3587-41f7-c97e-c2ec352fa2fa"
      },
      "source": [
        "model = keras.Sequential(\n",
        "    [\n",
        "        keras.Input(shape=input_shape),\n",
        "        layers.Conv2D(32, kernel_size=(3, 3), activation=\"relu\"),\n",
        "        layers.MaxPooling2D(pool_size=(2, 2)),\n",
        "        layers.Conv2D(64, kernel_size=(3, 3), activation=\"relu\"),\n",
        "        layers.MaxPooling2D(pool_size=(2, 2)),\n",
        "        layers.Flatten(),\n",
        "        layers.Dropout(0.5),\n",
        "        layers.Dense(num_classes, activation=\"softmax\"),\n",
        "    ]\n",
        ")\n",
        "\n",
        "model.summary()"
      ],
      "execution_count": null,
      "outputs": [
        {
          "output_type": "stream",
          "name": "stdout",
          "text": [
            "Model: \"sequential_4\"\n",
            "_________________________________________________________________\n",
            "Layer (type)                 Output Shape              Param #   \n",
            "=================================================================\n",
            "conv2d_2 (Conv2D)            (None, 26, 26, 32)        320       \n",
            "_________________________________________________________________\n",
            "max_pooling2d_2 (MaxPooling2 (None, 13, 13, 32)        0         \n",
            "_________________________________________________________________\n",
            "conv2d_3 (Conv2D)            (None, 11, 11, 64)        18496     \n",
            "_________________________________________________________________\n",
            "max_pooling2d_3 (MaxPooling2 (None, 5, 5, 64)          0         \n",
            "_________________________________________________________________\n",
            "flatten_4 (Flatten)          (None, 1600)              0         \n",
            "_________________________________________________________________\n",
            "dropout_3 (Dropout)          (None, 1600)              0         \n",
            "_________________________________________________________________\n",
            "dense_7 (Dense)              (None, 10)                16010     \n",
            "=================================================================\n",
            "Total params: 34,826\n",
            "Trainable params: 34,826\n",
            "Non-trainable params: 0\n",
            "_________________________________________________________________\n"
          ]
        }
      ]
    },
    {
      "cell_type": "code",
      "metadata": {
        "colab": {
          "base_uri": "https://localhost:8080/"
        },
        "id": "u4prc3LmRP3H",
        "outputId": "44c93b74-ddb0-425a-9cb8-ac04019f7fb7"
      },
      "source": [
        "# Scale images to the [0, 1] range\n",
        "trainX = np.array(trainX)\n",
        "testX = np.array(testX)\n",
        "trainX = trainX.astype(\"float32\") / 255\n",
        "testX = testX.astype(\"float32\") / 255\n",
        "\n",
        "# Make sure images have shape (28, 28, 1)\n",
        "trainX = np.expand_dims(trainX, -1)\n",
        "testX = np.expand_dims(testX, -1)\n",
        "\n",
        "print(\"x_train shape:\", trainX.shape)\n",
        "print(trainX.shape[0], \"train samples\")\n",
        "print(testX.shape[0], \"test samples\")"
      ],
      "execution_count": null,
      "outputs": [
        {
          "output_type": "stream",
          "name": "stdout",
          "text": [
            "x_train shape: (60000, 28, 28, 1)\n",
            "60000 train samples\n",
            "27561 test samples\n"
          ]
        }
      ]
    },
    {
      "cell_type": "code",
      "metadata": {
        "id": "8HNDp2JgRaLI"
      },
      "source": [
        "trainY = np.array(trainY)\n",
        "testY = np.array(testY)"
      ],
      "execution_count": null,
      "outputs": []
    },
    {
      "cell_type": "code",
      "metadata": {
        "colab": {
          "base_uri": "https://localhost:8080/"
        },
        "id": "4D57rMIPRaLJ",
        "outputId": "20b8aa11-8111-486a-ef14-930101753d16"
      },
      "source": [
        "batch_size = 128\n",
        "epochs = 15\n",
        "\n",
        "model.compile(loss=\"categorical_crossentropy\", optimizer=\"adam\", metrics=[\"accuracy\",keras.metrics.Precision(),keras.metrics.Recall()])\n",
        "\n",
        "history = model.fit(trainX, trainY, batch_size=batch_size, epochs=epochs, validation_split=0.1)"
      ],
      "execution_count": null,
      "outputs": [
        {
          "output_type": "stream",
          "name": "stdout",
          "text": [
            "Epoch 1/15\n",
            "422/422 [==============================] - 32s 73ms/step - loss: 1.7154 - accuracy: 0.4957 - precision_3: 0.9573 - recall_3: 0.1507 - val_loss: 0.4901 - val_accuracy: 0.9143 - val_precision_3: 0.9653 - val_recall_3: 0.7933\n",
            "Epoch 2/15\n",
            "422/422 [==============================] - 30s 72ms/step - loss: 0.3908 - accuracy: 0.8946 - precision_3: 0.9340 - recall_3: 0.8420 - val_loss: 0.2369 - val_accuracy: 0.9388 - val_precision_3: 0.9588 - val_recall_3: 0.9183\n",
            "Epoch 3/15\n",
            "422/422 [==============================] - 30s 72ms/step - loss: 0.2771 - accuracy: 0.9211 - precision_3: 0.9394 - recall_3: 0.9010 - val_loss: 0.1847 - val_accuracy: 0.9502 - val_precision_3: 0.9639 - val_recall_3: 0.9388\n",
            "Epoch 4/15\n",
            "422/422 [==============================] - 30s 72ms/step - loss: 0.2342 - accuracy: 0.9317 - precision_3: 0.9470 - recall_3: 0.9184 - val_loss: 0.1587 - val_accuracy: 0.9563 - val_precision_3: 0.9683 - val_recall_3: 0.9470\n",
            "Epoch 5/15\n",
            "422/422 [==============================] - 30s 72ms/step - loss: 0.2109 - accuracy: 0.9395 - precision_3: 0.9513 - recall_3: 0.9273 - val_loss: 0.1440 - val_accuracy: 0.9590 - val_precision_3: 0.9697 - val_recall_3: 0.9510\n",
            "Epoch 6/15\n",
            "422/422 [==============================] - 30s 72ms/step - loss: 0.1938 - accuracy: 0.9453 - precision_3: 0.9554 - recall_3: 0.9353 - val_loss: 0.1304 - val_accuracy: 0.9627 - val_precision_3: 0.9738 - val_recall_3: 0.9558\n",
            "Epoch 7/15\n",
            "422/422 [==============================] - 30s 72ms/step - loss: 0.1817 - accuracy: 0.9476 - precision_3: 0.9574 - recall_3: 0.9386 - val_loss: 0.1255 - val_accuracy: 0.9652 - val_precision_3: 0.9736 - val_recall_3: 0.9583\n",
            "Epoch 8/15\n",
            "422/422 [==============================] - 30s 72ms/step - loss: 0.1684 - accuracy: 0.9520 - precision_3: 0.9612 - recall_3: 0.9435 - val_loss: 0.1093 - val_accuracy: 0.9715 - val_precision_3: 0.9779 - val_recall_3: 0.9647\n",
            "Epoch 9/15\n",
            "422/422 [==============================] - 30s 72ms/step - loss: 0.1539 - accuracy: 0.9566 - precision_3: 0.9645 - recall_3: 0.9494 - val_loss: 0.1013 - val_accuracy: 0.9743 - val_precision_3: 0.9802 - val_recall_3: 0.9668\n",
            "Epoch 10/15\n",
            "422/422 [==============================] - 30s 72ms/step - loss: 0.1441 - accuracy: 0.9586 - precision_3: 0.9660 - recall_3: 0.9520 - val_loss: 0.0930 - val_accuracy: 0.9747 - val_precision_3: 0.9805 - val_recall_3: 0.9700\n",
            "Epoch 11/15\n",
            "422/422 [==============================] - 30s 71ms/step - loss: 0.1325 - accuracy: 0.9628 - precision_3: 0.9694 - recall_3: 0.9571 - val_loss: 0.0849 - val_accuracy: 0.9790 - val_precision_3: 0.9835 - val_recall_3: 0.9737\n",
            "Epoch 12/15\n",
            "422/422 [==============================] - 30s 72ms/step - loss: 0.1282 - accuracy: 0.9642 - precision_3: 0.9696 - recall_3: 0.9584 - val_loss: 0.0774 - val_accuracy: 0.9813 - val_precision_3: 0.9845 - val_recall_3: 0.9768\n",
            "Epoch 13/15\n",
            "422/422 [==============================] - 30s 72ms/step - loss: 0.1208 - accuracy: 0.9662 - precision_3: 0.9718 - recall_3: 0.9613 - val_loss: 0.0727 - val_accuracy: 0.9810 - val_precision_3: 0.9842 - val_recall_3: 0.9775\n",
            "Epoch 14/15\n",
            "422/422 [==============================] - 30s 72ms/step - loss: 0.1181 - accuracy: 0.9660 - precision_3: 0.9712 - recall_3: 0.9613 - val_loss: 0.0678 - val_accuracy: 0.9825 - val_precision_3: 0.9852 - val_recall_3: 0.9792\n",
            "Epoch 15/15\n",
            "422/422 [==============================] - 30s 72ms/step - loss: 0.1110 - accuracy: 0.9688 - precision_3: 0.9736 - recall_3: 0.9649 - val_loss: 0.0637 - val_accuracy: 0.9838 - val_precision_3: 0.9859 - val_recall_3: 0.9810\n"
          ]
        }
      ]
    },
    {
      "cell_type": "code",
      "metadata": {
        "colab": {
          "base_uri": "https://localhost:8080/"
        },
        "id": "S6QFUfrxRaLK",
        "outputId": "167e0f2c-72ff-41ca-fb52-68c62394c97c"
      },
      "source": [
        "print(history.history.keys())"
      ],
      "execution_count": null,
      "outputs": [
        {
          "output_type": "stream",
          "name": "stdout",
          "text": [
            "dict_keys(['loss', 'accuracy', 'precision_3', 'recall_3', 'val_loss', 'val_accuracy', 'val_precision_3', 'val_recall_3'])\n"
          ]
        }
      ]
    },
    {
      "cell_type": "code",
      "metadata": {
        "colab": {
          "base_uri": "https://localhost:8080/",
          "height": 295
        },
        "id": "zdX_PBdXRaLL",
        "outputId": "837e5256-03c1-4f98-b264-e5cbfa121bf3"
      },
      "source": [
        "import matplotlib.pyplot as plt\n",
        "plt.plot(history.history['accuracy'])\n",
        "plt.plot(history.history['val_accuracy'])\n",
        "plt.title(\"model accuracy\")\n",
        "plt.ylabel(\"accuracy\")\n",
        "plt.xlabel(\"epoch\")\n",
        "plt.legend(['train','test'],loc='lower right')\n",
        "plt.show()"
      ],
      "execution_count": null,
      "outputs": [
        {
          "output_type": "display_data",
          "data": {
            "image/png": "[encoded data removed]",
            "text/plain": [
              "<Figure size 432x288 with 1 Axes>"
            ]
          },
          "metadata": {
            "needs_background": "light"
          }
        }
      ]
    },
    {
      "cell_type": "code",
      "metadata": {
        "colab": {
          "base_uri": "https://localhost:8080/",
          "height": 295
        },
        "id": "6h8ViHgQRaLL",
        "outputId": "ace93e2d-b4e9-4384-ff2f-4af1f4e489bd"
      },
      "source": [
        "import matplotlib.pyplot as plt\n",
        "plt.plot(history.history['loss'])\n",
        "plt.plot(history.history['val_loss'])\n",
        "plt.title(\"model loss\")\n",
        "plt.ylabel(\"loss\")\n",
        "plt.xlabel(\"epoch\")\n",
        "plt.legend(['train','test'],loc='upper right')\n",
        "plt.show()"
      ],
      "execution_count": null,
      "outputs": [
        {
          "output_type": "display_data",
          "data": {
            "image/png": "[encoded data removed]",
            "text/plain": [
              "<Figure size 432x288 with 1 Axes>"
            ]
          },
          "metadata": {
            "needs_background": "light"
          }
        }
      ]
    },
    {
      "cell_type": "code",
      "metadata": {
        "colab": {
          "base_uri": "https://localhost:8080/"
        },
        "id": "rVDrH9X7RaLM",
        "outputId": "bb126727-6844-4c2a-80e7-00f536c12cde"
      },
      "source": [
        "score = model.evaluate(testX, testY, verbose=0)\n",
        "print(\"Test loss:\", score[0])\n",
        "print(\"Test accuracy:\", score[1])"
      ],
      "execution_count": null,
      "outputs": [
        {
          "output_type": "stream",
          "name": "stdout",
          "text": [
            "Test loss: 0.0745575949549675\n",
            "Test accuracy: 0.9818947315216064\n"
          ]
        }
      ]
    },
    {
      "cell_type": "code",
      "metadata": {
        "colab": {
          "base_uri": "https://localhost:8080/"
        },
        "id": "ursEkUmZRaLN",
        "outputId": "312ddeb1-76ab-40d3-9907-a540e2d5e4f9"
      },
      "source": [
        "loss, accuracy, precision, recall = model.evaluate(testX, testY, verbose=0)\n",
        "print('Loss', loss)\n",
        "print('Accuracy', accuracy)\n",
        "print('Precision', precision)\n",
        "print('Recall', recall)\n",
        "\n",
        "f1_score = (2* recall*precision)/(recall+precision)\n",
        "print(\"f1_score\", f1_score)"
      ],
      "execution_count": null,
      "outputs": [
        {
          "output_type": "stream",
          "name": "stdout",
          "text": [
            "Loss 0.0745575949549675\n",
            "Accuracy 0.9818947315216064\n",
            "Precision 0.9839749336242676\n",
            "Recall 0.9802619814872742\n",
            "f1_score 0.9821149483014988\n"
          ]
        }
      ]
    },
    {
      "cell_type": "code",
      "metadata": {
        "id": "6s4xqJzWRaLN"
      },
      "source": [
        "from keras.models import load_model\n",
        "\n",
        "model.save('cnn.h5')  # creates a HDF5 file 'my_model.h5'"
      ],
      "execution_count": null,
      "outputs": []
    },
    {
      "cell_type": "code",
      "metadata": {
        "id": "19z_bWXCTWzG"
      },
      "source": [
        ""
      ],
      "execution_count": null,
      "outputs": []
    }
  ]
}